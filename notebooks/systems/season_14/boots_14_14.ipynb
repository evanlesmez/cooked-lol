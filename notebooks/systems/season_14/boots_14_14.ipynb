{
 "cells": [
  {
   "cell_type": "raw",
   "id": "b8871777-ee3a-4853-a826-214a9d86105d",
   "metadata": {},
   "source": [
    "---\n",
    "title: \"Boots patch 14.14 comparison\"\n",
    "jupyter: python3\n",
    "---"
   ]
  },
  {
   "cell_type": "code",
   "execution_count": null,
   "id": "d268da58-eb74-4608-be64-03e198f57f53",
   "metadata": {},
   "outputs": [],
   "source": [
    "from cooked_lol import constants\n",
    "from cooked_lol.items import boots"
   ]
  },
  {
   "cell_type": "code",
   "execution_count": null,
   "id": "613c1621-5de1-4615-bab3-cbfbd4e8ca1f",
   "metadata": {},
   "outputs": [
    {
     "name": "stdout",
     "output_type": "stream",
     "text": [
      "Berserk's Greaves attack speed is worth 1050.0.\n",
      "Sorcerers Shoes magic pen is worth 559.98\n",
      "The Ionian Boots of Lucidity haste is worth 750 for 200 less gold than the others. It also gives summoner spell haste.\n",
      "\n"
     ]
    }
   ],
   "source": [
    "g_eff_pen_boots = boots.SorcerersShoes.magic_pen * constants.G_PER_MAGIC_PEN\n",
    "g_eff_berserks = (\n",
    "    boots.BerserkersGreaves.attack_speed * 100 * constants.G_PER_PERCENT_ATTACK_SPEED\n",
    ")\n",
    "g_eff_lucidity = boots.LucidityBoots.haste * constants.G_PER_HASTE\n",
    "print(\n",
    "    f\"\"\"Berserk's Greaves attack speed is worth {g_eff_berserks}.\n",
    "Sorcerers Shoes magic pen is worth {g_eff_pen_boots}\n",
    "The Ionian Boots of Lucidity haste is worth {g_eff_lucidity} for 200 less gold than the others. It also gives summoner spell haste.\n",
    "\"\"\"\n",
    ")"
   ]
  }
 ],
 "metadata": {
  "kernelspec": {
   "display_name": "lol-cooked",
   "language": "python",
   "name": "lol-cooked"
  }
 },
 "nbformat": 4,
 "nbformat_minor": 5
}
